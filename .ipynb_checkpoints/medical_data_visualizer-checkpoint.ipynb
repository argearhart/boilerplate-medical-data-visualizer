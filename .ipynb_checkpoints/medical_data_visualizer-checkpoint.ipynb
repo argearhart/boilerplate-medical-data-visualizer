{
 "cells": [
  {
   "cell_type": "code",
   "execution_count": null,
   "id": "7ec31d01-dec7-47b9-ae2f-269b58fd39ba",
   "metadata": {},
   "outputs": [],
   "source": []
  }
 ],
 "metadata": {
  "kernelspec": {
   "display_name": "Python 3 (ipykernel)",
   "language": "python",
   "name": "python3"
  },
  "language_info": {
   "codemirror_mode": {
    "name": "ipython",
    "version": 3
   },
   "file_extension": ".py",
   "mimetype": "text/x-python",
   "name": "python",
   "nbconvert_exporter": "python",
   "pygments_lexer": "ipython3",
   "version": "3.12.0"
  }
 },
 "nbformat": 4,
 "nbformat_minor": 5
}
